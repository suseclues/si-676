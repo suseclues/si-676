{
 "cells": [
  {
   "cell_type": "markdown",
   "metadata": {},
   "source": [
    "## Question 1\n",
    "\n",
    "What function do you use in Python to create a regex pattern?"
   ]
  },
  {
   "cell_type": "markdown",
   "metadata": {},
   "source": [
    "**Answer:**\n",
    "\n",
    "You can use the `re.compile()` function to create a regex pattern."
   ]
  },
  {
   "cell_type": "markdown",
   "metadata": {},
   "source": [
    "## Question 2\n",
    "\n",
    "What does the re `.search()` method return?"
   ]
  },
  {
   "cell_type": "markdown",
   "metadata": {},
   "source": [
    "**Answer:**\n",
    "\n",
    "The '.search()' method returns a match to a pattern search (if a match is found, otherwise None is returned)"
   ]
  },
  {
   "cell_type": "markdown",
   "metadata": {},
   "source": [
    "## Question 3\n",
    "\n",
    "How can you display or return the strings that are matched? (The use for group can be a bit unexpected in the implementation of this python library.)"
   ]
  },
  {
   "cell_type": "markdown",
   "metadata": {},
   "source": [
    "**Answer:**\n",
    "\n",
    "You can use the .group() (and variations of it) method to return/display the matched strings."
   ]
  },
  {
   "cell_type": "markdown",
   "metadata": {},
   "source": [
    "## Question 4\n",
    "\n",
    "The findall() method can return a list of strings or a list of tuples. Why would it return one or the other?"
   ]
  },
  {
   "cell_type": "markdown",
   "metadata": {},
   "source": [
    "**Answer:**\n",
    "\n",
    "The findall() method returns a list of all non-overlapping matches in a string. If the regular expression pattern contains groups, findall() returns a list of strings (or tuples?), each string (or tuple) being one match."
   ]
  },
  {
   "cell_type": "markdown",
   "metadata": {},
   "source": [
    "## Question 5\n",
    "\n",
    "The finditer() method allows you to loop through the match string and do something for each return. Write a block of code that searches the contents of the mbox-short.txt file to identify IP addresses, then writes each to file called ip-addresses.txt. Add the output file to your repo with the notebook."
   ]
  },
  {
   "cell_type": "markdown",
   "metadata": {},
   "source": [
    "**Answer:**"
   ]
  },
  {
   "cell_type": "code",
   "execution_count": 2,
   "metadata": {},
   "outputs": [],
   "source": [
    "import re\n",
    "\n",
    "ip_regex = re.compile(r'\\b\\d{1,3}\\.\\d{1,3}\\.\\d{1,3}\\.\\d{1,3}\\b')\n",
    "\n",
    "with open('mbox-short.txt', 'r') as file:\n",
    "    content = file.read()\n",
    "\n",
    "ip_addresses = [match.group() for match in ip_regex.finditer(content)]\n",
    "\n",
    "with open('ip-addresses.txt', 'w') as output:\n",
    "    for ip in ip_addresses:\n",
    "        output.write(ip + '\\n')"
   ]
  },
  {
   "cell_type": "markdown",
   "metadata": {},
   "source": [
    "## Regex Puzzle\n",
    "\n",
    "Can you write a regex that matches a number with commas for every three digits?\n",
    "Does match\n",
    "42\n",
    "1,234\n",
    "6,368,745\n",
    "Does not match\n",
    "12,24,567 (2 digits)\n",
    "1234 (no commas)"
   ]
  },
  {
   "cell_type": "markdown",
   "metadata": {},
   "source": [
    "**Answer:**"
   ]
  },
  {
   "cell_type": "code",
   "execution_count": null,
   "metadata": {},
   "outputs": [],
   "source": [
    "import re\n",
    "\n",
    "puzzle = re.compile(r'^\\d{1,3}(,\\d{3})*$')"
   ]
  }
 ],
 "metadata": {
  "kernelspec": {
   "display_name": "Python 3.10.6 64-bit",
   "language": "python",
   "name": "python3"
  },
  "language_info": {
   "codemirror_mode": {
    "name": "ipython",
    "version": 3
   },
   "file_extension": ".py",
   "mimetype": "text/x-python",
   "name": "python",
   "nbconvert_exporter": "python",
   "pygments_lexer": "ipython3",
   "version": "3.10.6"
  },
  "orig_nbformat": 4,
  "vscode": {
   "interpreter": {
    "hash": "aee8b7b246df8f9039afb4144a1f6fd8d2ca17a180786b69acc140d282b71a49"
   }
  }
 },
 "nbformat": 4,
 "nbformat_minor": 2
}
