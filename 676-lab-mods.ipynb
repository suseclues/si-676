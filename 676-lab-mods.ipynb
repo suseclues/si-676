{
 "cells": [
  {
   "cell_type": "markdown",
   "metadata": {},
   "source": [
    "# Question 1:\n",
    "To make sure things are working, adapt the code from class that we used to count the individual MODS records in the file. How many are there?"
   ]
  },
  {
   "cell_type": "code",
   "execution_count": 8,
   "metadata": {},
   "outputs": [],
   "source": [
    "import xml.etree.ElementTree as ET"
   ]
  },
  {
   "cell_type": "code",
   "execution_count": 9,
   "metadata": {},
   "outputs": [],
   "source": [
    "# load file\n",
    "mods = ET.parse(open('/Users/susiehartings/Desktop/676_lab_mods.xml'))\n",
    "root = mods.getroot()"
   ]
  },
  {
   "cell_type": "code",
   "execution_count": 10,
   "metadata": {},
   "outputs": [],
   "source": [
    "ns = {\n",
    "    'mods': 'http://www.loc.gov/mods/v3'\n",
    "}"
   ]
  },
  {
   "cell_type": "code",
   "execution_count": 11,
   "metadata": {},
   "outputs": [
    {
     "name": "stdout",
     "output_type": "stream",
     "text": [
      "{http://www.loc.gov/mods/v3}identifier {'invalid': 'yes', 'type': 'database id'}\n",
      "{http://www.loc.gov/mods/v3}identifier {'invalid': 'yes', 'type': 'database id'}\n",
      "{http://www.loc.gov/mods/v3}identifier {'displayLabel': 'Access URL', 'type': 'uri'}\n",
      "{http://www.loc.gov/mods/v3}identifier {'type': 'database id'}\n",
      "{http://www.loc.gov/mods/v3}identifier {'invalid': 'yes', 'type': 'database id'}\n",
      "{http://www.loc.gov/mods/v3}identifier {'invalid': 'yes', 'type': 'database id'}\n",
      "{http://www.loc.gov/mods/v3}identifier {'displayLabel': 'Access URL', 'type': 'uri'}\n",
      "{http://www.loc.gov/mods/v3}identifier {'type': 'database id'}\n",
      "{http://www.loc.gov/mods/v3}identifier {'invalid': 'yes', 'type': 'database id'}\n",
      "{http://www.loc.gov/mods/v3}identifier {'invalid': 'yes', 'type': 'database id'}\n",
      "{http://www.loc.gov/mods/v3}identifier {'invalid': 'yes', 'type': 'database id'}\n",
      "{http://www.loc.gov/mods/v3}identifier {'displayLabel': 'Access URL', 'type': 'uri'}\n",
      "{http://www.loc.gov/mods/v3}identifier {'type': 'database id'}\n",
      "{http://www.loc.gov/mods/v3}identifier {'invalid': 'yes', 'type': 'database id'}\n",
      "{http://www.loc.gov/mods/v3}identifier {'displayLabel': 'Access URL', 'type': 'uri'}\n",
      "{http://www.loc.gov/mods/v3}identifier {'type': 'database id'}\n",
      "{http://www.loc.gov/mods/v3}identifier {'displayLabel': 'Access URL', 'type': 'uri'}\n",
      "{http://www.loc.gov/mods/v3}identifier {'type': 'database id'}\n",
      "{http://www.loc.gov/mods/v3}identifier {'invalid': 'yes', 'type': 'database id'}\n",
      "{http://www.loc.gov/mods/v3}identifier {'invalid': 'yes', 'type': 'database id'}\n",
      "{http://www.loc.gov/mods/v3}identifier {'displayLabel': 'Access URL', 'type': 'uri'}\n",
      "{http://www.loc.gov/mods/v3}identifier {'type': 'database id'}\n",
      "{http://www.loc.gov/mods/v3}identifier {'invalid': 'yes', 'type': 'database id'}\n",
      "{http://www.loc.gov/mods/v3}identifier {'displayLabel': 'Access URL', 'type': 'uri'}\n",
      "{http://www.loc.gov/mods/v3}identifier {'type': 'database id'}\n",
      "{http://www.loc.gov/mods/v3}identifier {'invalid': 'yes', 'type': 'database id'}\n",
      "{http://www.loc.gov/mods/v3}identifier {'displayLabel': 'Access URL', 'type': 'uri'}\n",
      "{http://www.loc.gov/mods/v3}identifier {'type': 'database id'}\n",
      "{http://www.loc.gov/mods/v3}identifier {'invalid': 'yes', 'type': 'database id'}\n",
      "{http://www.loc.gov/mods/v3}identifier {'displayLabel': 'Access URL', 'type': 'uri'}\n",
      "{http://www.loc.gov/mods/v3}identifier {'type': 'database id'}\n",
      "{http://www.loc.gov/mods/v3}identifier {'invalid': 'yes', 'type': 'database id'}\n",
      "{http://www.loc.gov/mods/v3}identifier {'displayLabel': 'Access URL', 'type': 'uri'}\n",
      "{http://www.loc.gov/mods/v3}identifier {'type': 'database id'}\n",
      "{http://www.loc.gov/mods/v3}identifier {'invalid': 'yes', 'type': 'database id'}\n",
      "{http://www.loc.gov/mods/v3}identifier {'displayLabel': 'Access URL', 'type': 'uri'}\n",
      "{http://www.loc.gov/mods/v3}identifier {'type': 'database id'}\n",
      "{http://www.loc.gov/mods/v3}identifier {'invalid': 'yes', 'type': 'database id'}\n",
      "{http://www.loc.gov/mods/v3}identifier {'displayLabel': 'Access URL', 'type': 'uri'}\n",
      "{http://www.loc.gov/mods/v3}identifier {'type': 'database id'}\n",
      "{http://www.loc.gov/mods/v3}identifier {'invalid': 'yes', 'type': 'database id'}\n",
      "{http://www.loc.gov/mods/v3}identifier {'displayLabel': 'Access URL', 'type': 'uri'}\n",
      "{http://www.loc.gov/mods/v3}identifier {'type': 'database id'}\n",
      "{http://www.loc.gov/mods/v3}identifier {'invalid': 'yes', 'type': 'database id'}\n",
      "{http://www.loc.gov/mods/v3}identifier {'displayLabel': 'Access URL', 'type': 'uri'}\n",
      "{http://www.loc.gov/mods/v3}identifier {'type': 'database id'}\n",
      "{http://www.loc.gov/mods/v3}identifier {'invalid': 'yes', 'type': 'database id'}\n",
      "{http://www.loc.gov/mods/v3}identifier {'displayLabel': 'Access URL', 'type': 'uri'}\n",
      "{http://www.loc.gov/mods/v3}identifier {'type': 'database id'}\n",
      "{http://www.loc.gov/mods/v3}identifier {'invalid': 'yes', 'type': 'database id'}\n",
      "{http://www.loc.gov/mods/v3}identifier {'displayLabel': 'Access URL', 'type': 'uri'}\n",
      "{http://www.loc.gov/mods/v3}identifier {'type': 'database id'}\n",
      "{http://www.loc.gov/mods/v3}identifier {'displayLabel': 'Access URL', 'type': 'uri'}\n",
      "{http://www.loc.gov/mods/v3}identifier {'type': 'database id'}\n",
      "{http://www.loc.gov/mods/v3}identifier {'displayLabel': 'Access URL', 'type': 'uri'}\n",
      "{http://www.loc.gov/mods/v3}identifier {'type': 'database id'}\n",
      "{http://www.loc.gov/mods/v3}identifier {'displayLabel': 'Access URL', 'type': 'uri'}\n",
      "{http://www.loc.gov/mods/v3}identifier {'type': 'database id'}\n",
      "{http://www.loc.gov/mods/v3}identifier {'displayLabel': 'Access URL', 'type': 'uri'}\n",
      "{http://www.loc.gov/mods/v3}identifier {'type': 'database id'}\n",
      "{http://www.loc.gov/mods/v3}identifier {'displayLabel': 'Access URL', 'type': 'uri'}\n",
      "{http://www.loc.gov/mods/v3}identifier {'type': 'database id'}\n",
      "{http://www.loc.gov/mods/v3}identifier {'displayLabel': 'Access URL', 'type': 'uri'}\n",
      "{http://www.loc.gov/mods/v3}identifier {'type': 'database id'}\n",
      "{http://www.loc.gov/mods/v3}identifier {'type': 'uri', 'displayLabel': 'Access URL'}\n",
      "{http://www.loc.gov/mods/v3}identifier {'type': 'database id'}\n",
      "{http://www.loc.gov/mods/v3}identifier {'type': 'uri', 'displayLabel': 'Access URL'}\n",
      "{http://www.loc.gov/mods/v3}identifier {'type': 'database id'}\n",
      "{http://www.loc.gov/mods/v3}identifier {'type': 'uri', 'displayLabel': 'Access URL'}\n",
      "{http://www.loc.gov/mods/v3}identifier {'type': 'database id'}\n",
      "{http://www.loc.gov/mods/v3}identifier {'type': 'uri', 'displayLabel': 'Access URL'}\n",
      "{http://www.loc.gov/mods/v3}identifier {'type': 'database id'}\n",
      "{http://www.loc.gov/mods/v3}identifier {'type': 'uri', 'displayLabel': 'Access URL'}\n",
      "{http://www.loc.gov/mods/v3}identifier {'type': 'database id'}\n"
     ]
    }
   ],
   "source": [
    "for identifier in root.findall('.//mods:identifier[@type]', namespaces=ns):\n",
    "    print(identifier.tag, identifier.attrib)"
   ]
  },
  {
   "cell_type": "code",
   "execution_count": 13,
   "metadata": {},
   "outputs": [
    {
     "name": "stdout",
     "output_type": "stream",
     "text": [
      "0 mods records found.\n"
     ]
    }
   ],
   "source": [
    "# find all records\n",
    "mods_records = root.findall('.//mods')\n",
    "\n",
    "print(f'{len(mods_records)} mods records found.')"
   ]
  },
  {
   "cell_type": "markdown",
   "metadata": {},
   "source": [
    "# Question 2:\n",
    "These records contain subject designations, but only some of these correspond to headings that are authorized headings in the Library of Congress Subject Headings. Those are marked with an attribute authority='lcsh', which is indicated as an embedded attribute in the tag. Look through subject tags, identify only the ones that include an LCSH attribute, then print the content of those subject headings. Use an XPath expression here."
   ]
  },
  {
   "cell_type": "code",
   "execution_count": null,
   "metadata": {},
   "outputs": [],
   "source": [
    "# subject headings with 'lcsh' authority\n",
    "\n",
    "lcsh_subjects = root.findall(\".//mods:subject[@authority='lcsh']\", namespaces=ns)\n",
    "\n",
    "for subject in lcsh_subjects:\n",
    "    print(subject.text)"
   ]
  },
  {
   "cell_type": "markdown",
   "metadata": {},
   "source": [
    "# Question 3:\n",
    "Data validation: check the local call number references to ensure that they are in the proper format (e.g., lcwaAddddddd). Try adapting the regular expression implementation that we used in class. Hint: this is very similar to what we did in class, but you will need to modify the regex: look carefully at the identifiers because some will be similar but won't match the expression we built in class."
   ]
  },
  {
   "cell_type": "code",
   "execution_count": null,
   "metadata": {},
   "outputs": [],
   "source": [
    "import re\n",
    "\n",
    "pattern = r'^lcwaA\\d{6}$'\n",
    "\n",
    "local_call_no = root.findall(\".//identifier\")\n",
    "\n",
    "for call_no in local_call_no:\n",
    "    if re.match(pattern, call_no.text):\n",
    "        print(f'valid local call number: {call_number.text}')\n",
    "    else:\n",
    "        print(f'invalid local call number: {call_number.text}')"
   ]
  },
  {
   "cell_type": "markdown",
   "metadata": {},
   "source": [
    "# Question 4:\n",
    "Data addition or modification: identify the local call numbers, then check to make sure all of them have appropriate attribute data attached. As in class, make sure that there is a type attribute as well as an updated attribute. You can add more if you want to."
   ]
  },
  {
   "cell_type": "code",
   "execution_count": null,
   "metadata": {},
   "outputs": [],
   "source": [
    "for call_no in local_call_no:\n",
    "    call_no.set('type')\n",
    "    call_no.set('updated', 'true')"
   ]
  },
  {
   "cell_type": "markdown",
   "metadata": {},
   "source": [
    "# Question 5:\n",
    "Save the updated records to a new file, which includes a valid namespace declaration for MODS, is well-formed MODS, has an appropriate XML document type declaration, and is valid XML."
   ]
  },
  {
   "cell_type": "code",
   "execution_count": null,
   "metadata": {},
   "outputs": [],
   "source": [
    "tree.write('676_lab_mods_updated.xml', xml_declaration=True, encoding='utf-8', method='xml')"
   ]
  }
 ],
 "metadata": {
  "kernelspec": {
   "display_name": "Python 3.10.6 64-bit",
   "language": "python",
   "name": "python3"
  },
  "language_info": {
   "codemirror_mode": {
    "name": "ipython",
    "version": 3
   },
   "file_extension": ".py",
   "mimetype": "text/x-python",
   "name": "python",
   "nbconvert_exporter": "python",
   "pygments_lexer": "ipython3",
   "version": "3.10.6"
  },
  "orig_nbformat": 4,
  "vscode": {
   "interpreter": {
    "hash": "aee8b7b246df8f9039afb4144a1f6fd8d2ca17a180786b69acc140d282b71a49"
   }
  }
 },
 "nbformat": 4,
 "nbformat_minor": 2
}
